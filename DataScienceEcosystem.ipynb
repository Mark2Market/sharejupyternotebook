{
 "cells": [
  {
   "cell_type": "markdown",
   "id": "b35eef30-edfc-4fe7-b2d9-e2d1a6e7db91",
   "metadata": {},
   "source": [
    "# Data Science Tools and Ecosystem"
   ]
  },
  {
   "cell_type": "markdown",
   "id": "51dfb5fe-f4a4-44ca-b97c-d5f0f0c33006",
   "metadata": {},
   "source": [
    "In this notebook, Data Science Tools and Ecosystems are summarized."
   ]
  },
  {
   "cell_type": "markdown",
   "id": "a65267d9-d4bc-4125-b61e-23d29dfe87d4",
   "metadata": {},
   "source": [
    "**Objectives**\n",
    "* List 3 Popular languages for Data Science\n",
    "* list 3 commonly used library used by Data Scientists\n",
    "* List open source Data Science Tools\n",
    "* Evaluating some arithmetic expressions in Python"
   ]
  },
  {
   "cell_type": "markdown",
   "id": "a485014b-ab02-48a2-a20e-0a0cd85139b9",
   "metadata": {},
   "source": [
    "Some of the popular languages that Data Scientists use are:\n",
    "1. SQL\n",
    "2. R\n",
    "3. Python"
   ]
  },
  {
   "cell_type": "markdown",
   "id": "e5cc1781-8893-4c78-8fed-f63cd579a3d0",
   "metadata": {},
   "source": [
    "Some of the commonly used libraries used by Data Scientists include:\n",
    "1. ggplot2\n",
    "2. Pandas\n",
    "3. NumPy"
   ]
  },
  {
   "cell_type": "markdown",
   "id": "8544463b-6541-4e08-9bea-427284496da8",
   "metadata": {},
   "source": [
    "|Data Science Tools|\n",
    "|------------------|\n",
    "|Anaconda|\n",
    "|Github|\n",
    "|Jupyter Lab|\n"
   ]
  },
  {
   "cell_type": "markdown",
   "id": "529c5fd6-2efd-4ff1-9617-8b56996c68e5",
   "metadata": {},
   "source": [
    "### Below are a few examples of evaluating arithmetic expressions in Python"
   ]
  },
  {
   "cell_type": "code",
   "execution_count": 3,
   "id": "16a4a4d5-948f-4879-bd4f-62d2687e1a40",
   "metadata": {},
   "outputs": [
    {
     "data": {
      "text/plain": [
       "17"
      ]
     },
     "execution_count": 3,
     "metadata": {},
     "output_type": "execute_result"
    }
   ],
   "source": [
    "# This is a simple arithmetic expression to multiply then add integers.\n",
    "(3*4)+5"
   ]
  },
  {
   "cell_type": "code",
   "execution_count": 4,
   "id": "c22dfbca-082f-4c91-8fb6-502b8141adc8",
   "metadata": {},
   "outputs": [
    {
     "name": "stdout",
     "output_type": "stream",
     "text": [
      "3.3333333333333335\n"
     ]
    }
   ],
   "source": [
    "# This will convert 200 minutes to hours by dividing by 60\n",
    "minutes=200\n",
    "hours=minutes/60\n",
    "print(hours)"
   ]
  },
  {
   "cell_type": "markdown",
   "id": "ffec3cda-9cc5-44e5-a1ed-db2a92adfad7",
   "metadata": {},
   "source": [
    "## Author\n",
    "Mark Gaddis"
   ]
  },
  {
   "cell_type": "code",
   "execution_count": null,
   "id": "c0de40d2-9e0c-4dbf-ad03-7c5858a09133",
   "metadata": {},
   "outputs": [],
   "source": []
  }
 ],
 "metadata": {
  "kernelspec": {
   "display_name": "Python 3 (ipykernel)",
   "language": "python",
   "name": "python3"
  },
  "language_info": {
   "codemirror_mode": {
    "name": "ipython",
    "version": 3
   },
   "file_extension": ".py",
   "mimetype": "text/x-python",
   "name": "python",
   "nbconvert_exporter": "python",
   "pygments_lexer": "ipython3",
   "version": "3.11.7"
  }
 },
 "nbformat": 4,
 "nbformat_minor": 5
}
